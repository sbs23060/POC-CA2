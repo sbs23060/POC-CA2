{
 "cells": [
  {
   "cell_type": "code",
   "execution_count": 1,
   "id": "d707aa74",
   "metadata": {},
   "outputs": [
    {
     "name": "stdout",
     "output_type": "stream",
     "text": [
      "Requirement already satisfied: python-dotenv in c:\\users\\paddy\\anaconda3\\lib\\site-packages (1.0.0)\n"
     ]
    }
   ],
   "source": [
    "!pip install python-dotenv"
   ]
  },
  {
   "cell_type": "code",
   "execution_count": 2,
   "id": "ff8c7f76",
   "metadata": {},
   "outputs": [],
   "source": [
    "from dotenv import load_dotenv                # Load dotenv file into the system\n",
    "import os\n",
    "from os import getenv                         # Get variables from system into code\n",
    "import requests                               # Use variables to make HTTP requests"
   ]
  },
  {
   "cell_type": "code",
   "execution_count": 3,
   "id": "8e9bf469",
   "metadata": {},
   "outputs": [
    {
     "data": {
      "text/plain": [
       "True"
      ]
     },
     "execution_count": 3,
     "metadata": {},
     "output_type": "execute_result"
    }
   ],
   "source": [
    "load_dotenv()"
   ]
  },
  {
   "cell_type": "code",
   "execution_count": 4,
   "id": "9fb8de16",
   "metadata": {},
   "outputs": [],
   "source": [
    "APP_NAME = getenv('APP_NAME')\n",
    "APP_ID = getenv('APP_ID')\n",
    "APP_SECRET = getenv('APP_SECRET')\n",
    "USERNAME = getenv('REDDIT_USERNAME')\n",
    "PASSWORD = getenv('PASSWORD')"
   ]
  },
  {
   "cell_type": "code",
   "execution_count": 5,
   "id": "a51a051b",
   "metadata": {},
   "outputs": [
    {
     "name": "stdout",
     "output_type": "stream",
     "text": [
      "Yes\n"
     ]
    }
   ],
   "source": [
    "if APP_NAME and APP_ID and APP_SECRET and USERNAME and PASSWORD:         # Checking if any variables didn't load correctly\n",
    "    print('Yes')\n",
    "else:\n",
    "    print('No')"
   ]
  },
  {
   "cell_type": "code",
   "execution_count": 6,
   "id": "9d9a887f",
   "metadata": {},
   "outputs": [],
   "source": [
    "#print(APP_SECRET)                                                        # Checking if any variable loaded correclty\n",
    "#print(APP_NAME)\n",
    "#print(APP_ID)\n",
    "#print(USERNAME)\n",
    "#print(PASSWORD)"
   ]
  },
  {
   "cell_type": "code",
   "execution_count": 7,
   "id": "21eab1f3",
   "metadata": {},
   "outputs": [],
   "source": [
    "#try:                                                                     # Checking for exceptions, no exceptions raised\n",
    "#    load_dotenv()\n",
    "\n",
    "#except Exception as e:\n",
    "#    print(f\"Error loading .env file: {e}\")"
   ]
  },
  {
   "cell_type": "code",
   "execution_count": 8,
   "id": "9625c13b",
   "metadata": {},
   "outputs": [],
   "source": [
    "#os.getcwd()                                                              # Checking working directory"
   ]
  },
  {
   "cell_type": "code",
   "execution_count": 9,
   "id": "6b1283d0",
   "metadata": {},
   "outputs": [],
   "source": [
    "#with open('.env', 'r') as file:\n",
    "    #contents=file.read()\n",
    "    \n",
    "#print(contents)"
   ]
  },
  {
   "cell_type": "code",
   "execution_count": 10,
   "id": "1675ba16",
   "metadata": {},
   "outputs": [],
   "source": [
    "#file_path=\"C:\\\\Users\\\\paddy\\\\Data Prep & Viz for Data Analytics\\\\.env.env\"\n",
    "\n",
    "#if os.access(file_path, os.R_OK):\n",
    " #   print('This file is readable')\n",
    "#else:\n",
    "#    print('This file is not readable')"
   ]
  },
  {
   "cell_type": "code",
   "execution_count": 11,
   "id": "d0143891",
   "metadata": {},
   "outputs": [
    {
     "data": {
      "text/plain": [
       "'poc1993'"
      ]
     },
     "execution_count": 11,
     "metadata": {},
     "output_type": "execute_result"
    }
   ],
   "source": [
    "USERNAME               # Sanity testing the variables are accessible"
   ]
  },
  {
   "cell_type": "code",
   "execution_count": 12,
   "id": "ca557689",
   "metadata": {},
   "outputs": [
    {
     "name": "stdout",
     "output_type": "stream",
     "text": [
      "Requirement already satisfied: praw in c:\\users\\paddy\\anaconda3\\lib\\site-packages (7.7.0)\n",
      "Requirement already satisfied: prawcore<3,>=2.1 in c:\\users\\paddy\\anaconda3\\lib\\site-packages (from praw) (2.3.0)\n",
      "Requirement already satisfied: websocket-client>=0.54.0 in c:\\users\\paddy\\anaconda3\\lib\\site-packages (from praw) (0.58.0)\n",
      "Requirement already satisfied: update-checker>=0.18 in c:\\users\\paddy\\anaconda3\\lib\\site-packages (from praw) (0.18.0)\n",
      "Requirement already satisfied: requests<3.0,>=2.6.0 in c:\\users\\paddy\\anaconda3\\lib\\site-packages (from prawcore<3,>=2.1->praw) (2.28.1)\n",
      "Requirement already satisfied: six in c:\\users\\paddy\\anaconda3\\lib\\site-packages (from websocket-client>=0.54.0->praw) (1.16.0)\n",
      "Requirement already satisfied: idna<4,>=2.5 in c:\\users\\paddy\\anaconda3\\lib\\site-packages (from requests<3.0,>=2.6.0->prawcore<3,>=2.1->praw) (3.3)\n",
      "Requirement already satisfied: certifi>=2017.4.17 in c:\\users\\paddy\\anaconda3\\lib\\site-packages (from requests<3.0,>=2.6.0->prawcore<3,>=2.1->praw) (2022.9.14)\n",
      "Requirement already satisfied: urllib3<1.27,>=1.21.1 in c:\\users\\paddy\\anaconda3\\lib\\site-packages (from requests<3.0,>=2.6.0->prawcore<3,>=2.1->praw) (1.26.11)\n",
      "Requirement already satisfied: charset-normalizer<3,>=2 in c:\\users\\paddy\\anaconda3\\lib\\site-packages (from requests<3.0,>=2.6.0->prawcore<3,>=2.1->praw) (2.0.4)\n"
     ]
    }
   ],
   "source": [
    "!pip install praw  "
   ]
  },
  {
   "cell_type": "code",
   "execution_count": 13,
   "id": "fabaafb3",
   "metadata": {},
   "outputs": [],
   "source": [
    "import praw\n",
    "                        \n",
    "reddit=praw.Reddit(                                # Creating instance of praw.reddit class and authenticating \n",
    "    client_id=APP_ID,\n",
    "    client_secret=APP_SECRET,\n",
    "    user_agent=USERNAME,\n",
    ")"
   ]
  },
  {
   "cell_type": "code",
   "execution_count": 14,
   "id": "5ea726a9",
   "metadata": {},
   "outputs": [
    {
     "name": "stdout",
     "output_type": "stream",
     "text": [
      "comment data saved as json file: C:\\Users\\paddy\\Data Prep & Viz for Data Analytics\\.json\n"
     ]
    }
   ],
   "source": [
    "import json\n",
    "\n",
    "comment_list=[]                                   # Creating a list\n",
    "\n",
    "\n",
    "\n",
    "subreddit=reddit.subreddit('irishpolitics')       # Choosing the subreddit \n",
    " \n",
    "comments=subreddit.comments(limit=1000)           # Downloading the comments from subreddit\n",
    "\n",
    "for comment in comments:                          # Checking the comments\n",
    "    comment_info={\n",
    "        'author':str(comment.author),\n",
    "        'score':comment.score,\n",
    "        'body':comment.body\n",
    "    }\n",
    "    comment_list.append(comment_info)             # Appending comments to list\n",
    "\n",
    "file_path=\"C:\\\\Users\\\\paddy\\\\Data Prep & Viz for Data Analytics\\\\.json\"  \n",
    "\n",
    "with open(file_path, 'w') as json_file:           # Export as json file\n",
    "    json.dump(comment_list, json_file)\n",
    "    \n",
    "print('comment data saved as json file:', file_path) \n",
    "\n",
    "#    print('Comment author:', comment.author)\n",
    "#    print('Comment score:', comment.score)\n",
    "#    print('Comment body:', comment.body)"
   ]
  },
  {
   "cell_type": "code",
   "execution_count": 15,
   "id": "b3eb0c75",
   "metadata": {},
   "outputs": [
    {
     "data": {
      "text/html": [
       "<div>\n",
       "<style scoped>\n",
       "    .dataframe tbody tr th:only-of-type {\n",
       "        vertical-align: middle;\n",
       "    }\n",
       "\n",
       "    .dataframe tbody tr th {\n",
       "        vertical-align: top;\n",
       "    }\n",
       "\n",
       "    .dataframe thead th {\n",
       "        text-align: right;\n",
       "    }\n",
       "</style>\n",
       "<table border=\"1\" class=\"dataframe\">\n",
       "  <thead>\n",
       "    <tr style=\"text-align: right;\">\n",
       "      <th></th>\n",
       "      <th>author</th>\n",
       "      <th>score</th>\n",
       "      <th>body</th>\n",
       "    </tr>\n",
       "  </thead>\n",
       "  <tbody>\n",
       "    <tr>\n",
       "      <th>0</th>\n",
       "      <td>PremiumTempus</td>\n",
       "      <td>1</td>\n",
       "      <td>Do you want to give the EU power in domestic a...</td>\n",
       "    </tr>\n",
       "    <tr>\n",
       "      <th>1</th>\n",
       "      <td>eggbart_forgetfulsea</td>\n",
       "      <td>1</td>\n",
       "      <td>No, we're very capable of housing applicants. ...</td>\n",
       "    </tr>\n",
       "    <tr>\n",
       "      <th>2</th>\n",
       "      <td>PrinceRizz23</td>\n",
       "      <td>1</td>\n",
       "      <td>That's not correct. Ireland is frequently repr...</td>\n",
       "    </tr>\n",
       "    <tr>\n",
       "      <th>3</th>\n",
       "      <td>SubstantialFeel</td>\n",
       "      <td>1</td>\n",
       "      <td>Fine Gael are proposing to spend a billion a y...</td>\n",
       "    </tr>\n",
       "    <tr>\n",
       "      <th>4</th>\n",
       "      <td>Techinstuff</td>\n",
       "      <td>1</td>\n",
       "      <td>Lol yeah, funny that boring for a language can...</td>\n",
       "    </tr>\n",
       "  </tbody>\n",
       "</table>\n",
       "</div>"
      ],
      "text/plain": [
       "                 author  score  \\\n",
       "0         PremiumTempus      1   \n",
       "1  eggbart_forgetfulsea      1   \n",
       "2          PrinceRizz23      1   \n",
       "3       SubstantialFeel      1   \n",
       "4           Techinstuff      1   \n",
       "\n",
       "                                                body  \n",
       "0  Do you want to give the EU power in domestic a...  \n",
       "1  No, we're very capable of housing applicants. ...  \n",
       "2  That's not correct. Ireland is frequently repr...  \n",
       "3  Fine Gael are proposing to spend a billion a y...  \n",
       "4  Lol yeah, funny that boring for a language can...  "
      ]
     },
     "execution_count": 15,
     "metadata": {},
     "output_type": "execute_result"
    }
   ],
   "source": [
    "import pandas as pd\n",
    "\n",
    "df=pd.read_json(\"C:\\\\Users\\\\paddy\\\\Data Prep & Viz for Data Analytics\\\\.json\")          # Read json into dataframe\n",
    "\n",
    "df.head(5)"
   ]
  },
  {
   "cell_type": "code",
   "execution_count": 16,
   "id": "09daa38a",
   "metadata": {},
   "outputs": [
    {
     "data": {
      "text/html": [
       "<div>\n",
       "<style scoped>\n",
       "    .dataframe tbody tr th:only-of-type {\n",
       "        vertical-align: middle;\n",
       "    }\n",
       "\n",
       "    .dataframe tbody tr th {\n",
       "        vertical-align: top;\n",
       "    }\n",
       "\n",
       "    .dataframe thead th {\n",
       "        text-align: right;\n",
       "    }\n",
       "</style>\n",
       "<table border=\"1\" class=\"dataframe\">\n",
       "  <thead>\n",
       "    <tr style=\"text-align: right;\">\n",
       "      <th></th>\n",
       "      <th>author</th>\n",
       "      <th>score</th>\n",
       "      <th>ireland comments</th>\n",
       "    </tr>\n",
       "  </thead>\n",
       "  <tbody>\n",
       "    <tr>\n",
       "      <th>0</th>\n",
       "      <td>PremiumTempus</td>\n",
       "      <td>1</td>\n",
       "      <td>Do you want to give the EU power in domestic a...</td>\n",
       "    </tr>\n",
       "    <tr>\n",
       "      <th>1</th>\n",
       "      <td>eggbart_forgetfulsea</td>\n",
       "      <td>1</td>\n",
       "      <td>No, we're very capable of housing applicants. ...</td>\n",
       "    </tr>\n",
       "    <tr>\n",
       "      <th>2</th>\n",
       "      <td>PrinceRizz23</td>\n",
       "      <td>1</td>\n",
       "      <td>That's not correct. Ireland is frequently repr...</td>\n",
       "    </tr>\n",
       "    <tr>\n",
       "      <th>3</th>\n",
       "      <td>SubstantialFeel</td>\n",
       "      <td>1</td>\n",
       "      <td>Fine Gael are proposing to spend a billion a y...</td>\n",
       "    </tr>\n",
       "    <tr>\n",
       "      <th>4</th>\n",
       "      <td>Techinstuff</td>\n",
       "      <td>1</td>\n",
       "      <td>Lol yeah, funny that boring for a language can...</td>\n",
       "    </tr>\n",
       "  </tbody>\n",
       "</table>\n",
       "</div>"
      ],
      "text/plain": [
       "                 author  score  \\\n",
       "0         PremiumTempus      1   \n",
       "1  eggbart_forgetfulsea      1   \n",
       "2          PrinceRizz23      1   \n",
       "3       SubstantialFeel      1   \n",
       "4           Techinstuff      1   \n",
       "\n",
       "                                    ireland comments  \n",
       "0  Do you want to give the EU power in domestic a...  \n",
       "1  No, we're very capable of housing applicants. ...  \n",
       "2  That's not correct. Ireland is frequently repr...  \n",
       "3  Fine Gael are proposing to spend a billion a y...  \n",
       "4  Lol yeah, funny that boring for a language can...  "
      ]
     },
     "execution_count": 16,
     "metadata": {},
     "output_type": "execute_result"
    }
   ],
   "source": [
    "df=df.rename(columns={'body': 'ireland comments'})      # Rename column with comments\n",
    "\n",
    "df.head(5)"
   ]
  },
  {
   "cell_type": "code",
   "execution_count": 17,
   "id": "d5c7cd0c",
   "metadata": {},
   "outputs": [
    {
     "name": "stdout",
     "output_type": "stream",
     "text": [
      "comment data saved as json file: C:\\Users\\paddy\\Data Prep & Viz for Data Analytics\\.json\n"
     ]
    }
   ],
   "source": [
    "comment_list=[]                                       # Creating a list\n",
    "\n",
    "\n",
    "\n",
    "subreddit=reddit.subreddit('News_Construction')       # Choosing the subreddit \n",
    " \n",
    "comments=subreddit.comments(limit=1000)               # Downloading the comments from subreddit\n",
    "\n",
    "for comment in comments:                              # Checking the comments\n",
    "    comment_info={\n",
    "        'author':str(comment.author),\n",
    "        'score':comment.score,\n",
    "        'body':comment.body\n",
    "    }\n",
    "    comment_list.append(comment_info)                # Appending comments to list\n",
    "\n",
    "file_path=\"C:\\\\Users\\\\paddy\\\\Data Prep & Viz for Data Analytics\\\\.json\"  \n",
    "\n",
    "with open(file_path, 'w') as json_file:              # Export as json file\n",
    "    json.dump(comment_list, json_file)\n",
    "    \n",
    "print('comment data saved as json file:', file_path) "
   ]
  },
  {
   "cell_type": "code",
   "execution_count": 18,
   "id": "c444c11a",
   "metadata": {},
   "outputs": [
    {
     "data": {
      "text/html": [
       "<div>\n",
       "<style scoped>\n",
       "    .dataframe tbody tr th:only-of-type {\n",
       "        vertical-align: middle;\n",
       "    }\n",
       "\n",
       "    .dataframe tbody tr th {\n",
       "        vertical-align: top;\n",
       "    }\n",
       "\n",
       "    .dataframe thead th {\n",
       "        text-align: right;\n",
       "    }\n",
       "</style>\n",
       "<table border=\"1\" class=\"dataframe\">\n",
       "  <thead>\n",
       "    <tr style=\"text-align: right;\">\n",
       "      <th></th>\n",
       "      <th>author</th>\n",
       "      <th>score</th>\n",
       "      <th>body</th>\n",
       "    </tr>\n",
       "  </thead>\n",
       "  <tbody>\n",
       "    <tr>\n",
       "      <th>0</th>\n",
       "      <td>clydejs620</td>\n",
       "      <td>1</td>\n",
       "      <td>The construction industry has been concerned a...</td>\n",
       "    </tr>\n",
       "    <tr>\n",
       "      <th>1</th>\n",
       "      <td>Individual_Corgi5670</td>\n",
       "      <td>1</td>\n",
       "      <td>He dies</td>\n",
       "    </tr>\n",
       "    <tr>\n",
       "      <th>2</th>\n",
       "      <td>IndustrialProperties</td>\n",
       "      <td>1</td>\n",
       "      <td>Commercial Real estate intended to make a prof...</td>\n",
       "    </tr>\n",
       "    <tr>\n",
       "      <th>3</th>\n",
       "      <td>bayremodelingkb</td>\n",
       "      <td>1</td>\n",
       "      <td>Excellent</td>\n",
       "    </tr>\n",
       "    <tr>\n",
       "      <th>4</th>\n",
       "      <td>PreXLR</td>\n",
       "      <td>1</td>\n",
       "      <td>(Hi|Hey|Hello) OP,</td>\n",
       "    </tr>\n",
       "  </tbody>\n",
       "</table>\n",
       "</div>"
      ],
      "text/plain": [
       "                 author  score  \\\n",
       "0            clydejs620      1   \n",
       "1  Individual_Corgi5670      1   \n",
       "2  IndustrialProperties      1   \n",
       "3       bayremodelingkb      1   \n",
       "4                PreXLR      1   \n",
       "\n",
       "                                                body  \n",
       "0  The construction industry has been concerned a...  \n",
       "1                                            He dies  \n",
       "2  Commercial Real estate intended to make a prof...  \n",
       "3                                          Excellent  \n",
       "4                                 (Hi|Hey|Hello) OP,  "
      ]
     },
     "execution_count": 18,
     "metadata": {},
     "output_type": "execute_result"
    }
   ],
   "source": [
    "df_2=pd.read_json(\"C:\\\\Users\\\\paddy\\\\Data Prep & Viz for Data Analytics\\\\.json\")   # Reading in second json file\n",
    "\n",
    "df_2.head(5)"
   ]
  },
  {
   "cell_type": "code",
   "execution_count": 19,
   "id": "1736a1db",
   "metadata": {},
   "outputs": [
    {
     "data": {
      "text/html": [
       "<div>\n",
       "<style scoped>\n",
       "    .dataframe tbody tr th:only-of-type {\n",
       "        vertical-align: middle;\n",
       "    }\n",
       "\n",
       "    .dataframe tbody tr th {\n",
       "        vertical-align: top;\n",
       "    }\n",
       "\n",
       "    .dataframe thead th {\n",
       "        text-align: right;\n",
       "    }\n",
       "</style>\n",
       "<table border=\"1\" class=\"dataframe\">\n",
       "  <thead>\n",
       "    <tr style=\"text-align: right;\">\n",
       "      <th></th>\n",
       "      <th>author</th>\n",
       "      <th>score</th>\n",
       "      <th>Other comments</th>\n",
       "    </tr>\n",
       "  </thead>\n",
       "  <tbody>\n",
       "    <tr>\n",
       "      <th>0</th>\n",
       "      <td>clydejs620</td>\n",
       "      <td>1</td>\n",
       "      <td>The construction industry has been concerned a...</td>\n",
       "    </tr>\n",
       "    <tr>\n",
       "      <th>1</th>\n",
       "      <td>Individual_Corgi5670</td>\n",
       "      <td>1</td>\n",
       "      <td>He dies</td>\n",
       "    </tr>\n",
       "    <tr>\n",
       "      <th>2</th>\n",
       "      <td>IndustrialProperties</td>\n",
       "      <td>1</td>\n",
       "      <td>Commercial Real estate intended to make a prof...</td>\n",
       "    </tr>\n",
       "    <tr>\n",
       "      <th>3</th>\n",
       "      <td>bayremodelingkb</td>\n",
       "      <td>1</td>\n",
       "      <td>Excellent</td>\n",
       "    </tr>\n",
       "    <tr>\n",
       "      <th>4</th>\n",
       "      <td>PreXLR</td>\n",
       "      <td>1</td>\n",
       "      <td>(Hi|Hey|Hello) OP,</td>\n",
       "    </tr>\n",
       "  </tbody>\n",
       "</table>\n",
       "</div>"
      ],
      "text/plain": [
       "                 author  score  \\\n",
       "0            clydejs620      1   \n",
       "1  Individual_Corgi5670      1   \n",
       "2  IndustrialProperties      1   \n",
       "3       bayremodelingkb      1   \n",
       "4                PreXLR      1   \n",
       "\n",
       "                                      Other comments  \n",
       "0  The construction industry has been concerned a...  \n",
       "1                                            He dies  \n",
       "2  Commercial Real estate intended to make a prof...  \n",
       "3                                          Excellent  \n",
       "4                                 (Hi|Hey|Hello) OP,  "
      ]
     },
     "execution_count": 19,
     "metadata": {},
     "output_type": "execute_result"
    }
   ],
   "source": [
    "df_2=df_2.rename(columns={'body': 'Other comments'})           # Rename column for clarity\n",
    "\n",
    "df_2.head(5)"
   ]
  },
  {
   "cell_type": "code",
   "execution_count": 20,
   "id": "1d6adadc",
   "metadata": {},
   "outputs": [
    {
     "data": {
      "text/html": [
       "<div>\n",
       "<style scoped>\n",
       "    .dataframe tbody tr th:only-of-type {\n",
       "        vertical-align: middle;\n",
       "    }\n",
       "\n",
       "    .dataframe tbody tr th {\n",
       "        vertical-align: top;\n",
       "    }\n",
       "\n",
       "    .dataframe thead th {\n",
       "        text-align: right;\n",
       "    }\n",
       "</style>\n",
       "<table border=\"1\" class=\"dataframe\">\n",
       "  <thead>\n",
       "    <tr style=\"text-align: right;\">\n",
       "      <th></th>\n",
       "      <th>author</th>\n",
       "      <th>score</th>\n",
       "      <th>ireland comments</th>\n",
       "      <th>author</th>\n",
       "      <th>score</th>\n",
       "      <th>Other comments</th>\n",
       "    </tr>\n",
       "  </thead>\n",
       "  <tbody>\n",
       "    <tr>\n",
       "      <th>0</th>\n",
       "      <td>PremiumTempus</td>\n",
       "      <td>1</td>\n",
       "      <td>Do you want to give the EU power in domestic a...</td>\n",
       "      <td>clydejs620</td>\n",
       "      <td>1.0</td>\n",
       "      <td>The construction industry has been concerned a...</td>\n",
       "    </tr>\n",
       "    <tr>\n",
       "      <th>1</th>\n",
       "      <td>eggbart_forgetfulsea</td>\n",
       "      <td>1</td>\n",
       "      <td>No, we're very capable of housing applicants. ...</td>\n",
       "      <td>Individual_Corgi5670</td>\n",
       "      <td>1.0</td>\n",
       "      <td>He dies</td>\n",
       "    </tr>\n",
       "    <tr>\n",
       "      <th>2</th>\n",
       "      <td>PrinceRizz23</td>\n",
       "      <td>1</td>\n",
       "      <td>That's not correct. Ireland is frequently repr...</td>\n",
       "      <td>IndustrialProperties</td>\n",
       "      <td>1.0</td>\n",
       "      <td>Commercial Real estate intended to make a prof...</td>\n",
       "    </tr>\n",
       "    <tr>\n",
       "      <th>3</th>\n",
       "      <td>SubstantialFeel</td>\n",
       "      <td>1</td>\n",
       "      <td>Fine Gael are proposing to spend a billion a y...</td>\n",
       "      <td>bayremodelingkb</td>\n",
       "      <td>1.0</td>\n",
       "      <td>Excellent</td>\n",
       "    </tr>\n",
       "    <tr>\n",
       "      <th>4</th>\n",
       "      <td>Techinstuff</td>\n",
       "      <td>1</td>\n",
       "      <td>Lol yeah, funny that boring for a language can...</td>\n",
       "      <td>PreXLR</td>\n",
       "      <td>1.0</td>\n",
       "      <td>(Hi|Hey|Hello) OP,</td>\n",
       "    </tr>\n",
       "  </tbody>\n",
       "</table>\n",
       "</div>"
      ],
      "text/plain": [
       "                 author  score  \\\n",
       "0         PremiumTempus      1   \n",
       "1  eggbart_forgetfulsea      1   \n",
       "2          PrinceRizz23      1   \n",
       "3       SubstantialFeel      1   \n",
       "4           Techinstuff      1   \n",
       "\n",
       "                                    ireland comments                author  \\\n",
       "0  Do you want to give the EU power in domestic a...            clydejs620   \n",
       "1  No, we're very capable of housing applicants. ...  Individual_Corgi5670   \n",
       "2  That's not correct. Ireland is frequently repr...  IndustrialProperties   \n",
       "3  Fine Gael are proposing to spend a billion a y...       bayremodelingkb   \n",
       "4  Lol yeah, funny that boring for a language can...                PreXLR   \n",
       "\n",
       "   score                                     Other comments  \n",
       "0    1.0  The construction industry has been concerned a...  \n",
       "1    1.0                                            He dies  \n",
       "2    1.0  Commercial Real estate intended to make a prof...  \n",
       "3    1.0                                          Excellent  \n",
       "4    1.0                                 (Hi|Hey|Hello) OP,  "
      ]
     },
     "execution_count": 20,
     "metadata": {},
     "output_type": "execute_result"
    }
   ],
   "source": [
    "new_df=pd.concat([df, df_2], axis=1)                          # Concatenate the two dataframes together into one\n",
    "\n",
    "new_df.head(5)"
   ]
  },
  {
   "cell_type": "code",
   "execution_count": 21,
   "id": "43cb14d8",
   "metadata": {},
   "outputs": [
    {
     "data": {
      "text/html": [
       "<div>\n",
       "<style scoped>\n",
       "    .dataframe tbody tr th:only-of-type {\n",
       "        vertical-align: middle;\n",
       "    }\n",
       "\n",
       "    .dataframe tbody tr th {\n",
       "        vertical-align: top;\n",
       "    }\n",
       "\n",
       "    .dataframe thead th {\n",
       "        text-align: right;\n",
       "    }\n",
       "</style>\n",
       "<table border=\"1\" class=\"dataframe\">\n",
       "  <thead>\n",
       "    <tr style=\"text-align: right;\">\n",
       "      <th></th>\n",
       "      <th>ireland comments</th>\n",
       "      <th>Other comments</th>\n",
       "    </tr>\n",
       "  </thead>\n",
       "  <tbody>\n",
       "    <tr>\n",
       "      <th>0</th>\n",
       "      <td>Do you want to give the EU power in domestic a...</td>\n",
       "      <td>The construction industry has been concerned a...</td>\n",
       "    </tr>\n",
       "    <tr>\n",
       "      <th>1</th>\n",
       "      <td>No, we're very capable of housing applicants. ...</td>\n",
       "      <td>He dies</td>\n",
       "    </tr>\n",
       "    <tr>\n",
       "      <th>2</th>\n",
       "      <td>That's not correct. Ireland is frequently repr...</td>\n",
       "      <td>Commercial Real estate intended to make a prof...</td>\n",
       "    </tr>\n",
       "    <tr>\n",
       "      <th>3</th>\n",
       "      <td>Fine Gael are proposing to spend a billion a y...</td>\n",
       "      <td>Excellent</td>\n",
       "    </tr>\n",
       "    <tr>\n",
       "      <th>4</th>\n",
       "      <td>Lol yeah, funny that boring for a language can...</td>\n",
       "      <td>(Hi|Hey|Hello) OP,</td>\n",
       "    </tr>\n",
       "  </tbody>\n",
       "</table>\n",
       "</div>"
      ],
      "text/plain": [
       "                                    ireland comments  \\\n",
       "0  Do you want to give the EU power in domestic a...   \n",
       "1  No, we're very capable of housing applicants. ...   \n",
       "2  That's not correct. Ireland is frequently repr...   \n",
       "3  Fine Gael are proposing to spend a billion a y...   \n",
       "4  Lol yeah, funny that boring for a language can...   \n",
       "\n",
       "                                      Other comments  \n",
       "0  The construction industry has been concerned a...  \n",
       "1                                            He dies  \n",
       "2  Commercial Real estate intended to make a prof...  \n",
       "3                                          Excellent  \n",
       "4                                 (Hi|Hey|Hello) OP,  "
      ]
     },
     "execution_count": 21,
     "metadata": {},
     "output_type": "execute_result"
    }
   ],
   "source": [
    "new_df=new_df.drop(columns=['author', 'score', 'author', 'score'])     # Drop unnecessary columns\n",
    "\n",
    "new_df.head(5)"
   ]
  },
  {
   "cell_type": "code",
   "execution_count": 29,
   "id": "4bb2a742",
   "metadata": {},
   "outputs": [
    {
     "name": "stdout",
     "output_type": "stream",
     "text": [
      "<class 'pandas.core.frame.DataFrame'>\n",
      "Int64Index: 917 entries, 0 to 916\n",
      "Data columns (total 6 columns):\n",
      " #   Column             Non-Null Count  Dtype  \n",
      "---  ------             --------------  -----  \n",
      " 0   ireland comments   917 non-null    object \n",
      " 1   Other comments     917 non-null    object \n",
      " 2   Sentiment_ireland  917 non-null    float64\n",
      " 3   Sentiment_other    917 non-null    float64\n",
      " 4   ireland label      917 non-null    object \n",
      " 5   other label        917 non-null    object \n",
      "dtypes: float64(2), object(4)\n",
      "memory usage: 50.1+ KB\n"
     ]
    }
   ],
   "source": [
    "new_df.info()                                                          # Checking for null values"
   ]
  },
  {
   "cell_type": "code",
   "execution_count": 22,
   "id": "cc7be8d7",
   "metadata": {},
   "outputs": [
    {
     "name": "stdout",
     "output_type": "stream",
     "text": [
      "<class 'pandas.core.frame.DataFrame'>\n",
      "Int64Index: 917 entries, 0 to 916\n",
      "Data columns (total 2 columns):\n",
      " #   Column            Non-Null Count  Dtype \n",
      "---  ------            --------------  ----- \n",
      " 0   ireland comments  917 non-null    object\n",
      " 1   Other comments    917 non-null    object\n",
      "dtypes: object(2)\n",
      "memory usage: 21.5+ KB\n"
     ]
    }
   ],
   "source": [
    "new_df.dropna(inplace=True)                     # Dropped rows with null values as part of Complete Case Analysis (CCA)\n",
    "\n",
    "new_df.info()"
   ]
  },
  {
   "cell_type": "code",
   "execution_count": 23,
   "id": "67bc0f7d",
   "metadata": {},
   "outputs": [
    {
     "data": {
      "text/html": [
       "<div>\n",
       "<style scoped>\n",
       "    .dataframe tbody tr th:only-of-type {\n",
       "        vertical-align: middle;\n",
       "    }\n",
       "\n",
       "    .dataframe tbody tr th {\n",
       "        vertical-align: top;\n",
       "    }\n",
       "\n",
       "    .dataframe thead th {\n",
       "        text-align: right;\n",
       "    }\n",
       "</style>\n",
       "<table border=\"1\" class=\"dataframe\">\n",
       "  <thead>\n",
       "    <tr style=\"text-align: right;\">\n",
       "      <th></th>\n",
       "      <th>ireland comments</th>\n",
       "      <th>Other comments</th>\n",
       "      <th>Sentiment_ireland</th>\n",
       "      <th>Sentiment_other</th>\n",
       "    </tr>\n",
       "  </thead>\n",
       "  <tbody>\n",
       "    <tr>\n",
       "      <th>0</th>\n",
       "      <td>Do you want to give the EU power in domestic a...</td>\n",
       "      <td>The construction industry has been concerned a...</td>\n",
       "      <td>0.166667</td>\n",
       "      <td>0.294872</td>\n",
       "    </tr>\n",
       "    <tr>\n",
       "      <th>1</th>\n",
       "      <td>No, we're very capable of housing applicants. ...</td>\n",
       "      <td>He dies</td>\n",
       "      <td>0.211667</td>\n",
       "      <td>0.000000</td>\n",
       "    </tr>\n",
       "    <tr>\n",
       "      <th>2</th>\n",
       "      <td>That's not correct. Ireland is frequently repr...</td>\n",
       "      <td>Commercial Real estate intended to make a prof...</td>\n",
       "      <td>0.050000</td>\n",
       "      <td>0.128571</td>\n",
       "    </tr>\n",
       "    <tr>\n",
       "      <th>3</th>\n",
       "      <td>Fine Gael are proposing to spend a billion a y...</td>\n",
       "      <td>Excellent</td>\n",
       "      <td>-0.127778</td>\n",
       "      <td>1.000000</td>\n",
       "    </tr>\n",
       "    <tr>\n",
       "      <th>4</th>\n",
       "      <td>Lol yeah, funny that boring for a language can...</td>\n",
       "      <td>(Hi|Hey|Hello) OP,</td>\n",
       "      <td>0.016667</td>\n",
       "      <td>0.000000</td>\n",
       "    </tr>\n",
       "  </tbody>\n",
       "</table>\n",
       "</div>"
      ],
      "text/plain": [
       "                                    ireland comments  \\\n",
       "0  Do you want to give the EU power in domestic a...   \n",
       "1  No, we're very capable of housing applicants. ...   \n",
       "2  That's not correct. Ireland is frequently repr...   \n",
       "3  Fine Gael are proposing to spend a billion a y...   \n",
       "4  Lol yeah, funny that boring for a language can...   \n",
       "\n",
       "                                      Other comments  Sentiment_ireland  \\\n",
       "0  The construction industry has been concerned a...           0.166667   \n",
       "1                                            He dies           0.211667   \n",
       "2  Commercial Real estate intended to make a prof...           0.050000   \n",
       "3                                          Excellent          -0.127778   \n",
       "4                                 (Hi|Hey|Hello) OP,           0.016667   \n",
       "\n",
       "   Sentiment_other  \n",
       "0         0.294872  \n",
       "1         0.000000  \n",
       "2         0.128571  \n",
       "3         1.000000  \n",
       "4         0.000000  "
      ]
     },
     "execution_count": 23,
     "metadata": {},
     "output_type": "execute_result"
    }
   ],
   "source": [
    "from textblob import TextBlob           # Importing library for sentiment analysis\n",
    "\n",
    "new_df['Sentiment_ireland']=new_df['ireland comments'].apply(lambda x: TextBlob(x).sentiment.polarity)  # Assigning polarity score\n",
    "\n",
    "new_df['Sentiment_other']=new_df['Other comments'].apply(lambda x: TextBlob(str(x)).sentiment.polarity) # Assigning polarity score\n",
    "\n",
    "new_df.head(5)"
   ]
  },
  {
   "cell_type": "code",
   "execution_count": 24,
   "id": "d106cbd7",
   "metadata": {},
   "outputs": [
    {
     "name": "stdout",
     "output_type": "stream",
     "text": [
      "ireland comments      object\n",
      "Other comments        object\n",
      "Sentiment_ireland    float64\n",
      "Sentiment_other      float64\n",
      "dtype: object\n"
     ]
    }
   ],
   "source": [
    "print(new_df.dtypes)                     # Checking data types"
   ]
  },
  {
   "cell_type": "code",
   "execution_count": 25,
   "id": "3b0e18da",
   "metadata": {},
   "outputs": [
    {
     "data": {
      "text/html": [
       "<div>\n",
       "<style scoped>\n",
       "    .dataframe tbody tr th:only-of-type {\n",
       "        vertical-align: middle;\n",
       "    }\n",
       "\n",
       "    .dataframe tbody tr th {\n",
       "        vertical-align: top;\n",
       "    }\n",
       "\n",
       "    .dataframe thead th {\n",
       "        text-align: right;\n",
       "    }\n",
       "</style>\n",
       "<table border=\"1\" class=\"dataframe\">\n",
       "  <thead>\n",
       "    <tr style=\"text-align: right;\">\n",
       "      <th></th>\n",
       "      <th>ireland comments</th>\n",
       "      <th>Other comments</th>\n",
       "      <th>Sentiment_ireland</th>\n",
       "      <th>Sentiment_other</th>\n",
       "      <th>ireland label</th>\n",
       "    </tr>\n",
       "  </thead>\n",
       "  <tbody>\n",
       "    <tr>\n",
       "      <th>0</th>\n",
       "      <td>Do you want to give the EU power in domestic a...</td>\n",
       "      <td>The construction industry has been concerned a...</td>\n",
       "      <td>0.166667</td>\n",
       "      <td>0.294872</td>\n",
       "      <td>neutral</td>\n",
       "    </tr>\n",
       "    <tr>\n",
       "      <th>1</th>\n",
       "      <td>No, we're very capable of housing applicants. ...</td>\n",
       "      <td>He dies</td>\n",
       "      <td>0.211667</td>\n",
       "      <td>0.000000</td>\n",
       "      <td>neutral</td>\n",
       "    </tr>\n",
       "    <tr>\n",
       "      <th>2</th>\n",
       "      <td>That's not correct. Ireland is frequently repr...</td>\n",
       "      <td>Commercial Real estate intended to make a prof...</td>\n",
       "      <td>0.050000</td>\n",
       "      <td>0.128571</td>\n",
       "      <td>neutral</td>\n",
       "    </tr>\n",
       "    <tr>\n",
       "      <th>3</th>\n",
       "      <td>Fine Gael are proposing to spend a billion a y...</td>\n",
       "      <td>Excellent</td>\n",
       "      <td>-0.127778</td>\n",
       "      <td>1.000000</td>\n",
       "      <td>neutral</td>\n",
       "    </tr>\n",
       "    <tr>\n",
       "      <th>4</th>\n",
       "      <td>Lol yeah, funny that boring for a language can...</td>\n",
       "      <td>(Hi|Hey|Hello) OP,</td>\n",
       "      <td>0.016667</td>\n",
       "      <td>0.000000</td>\n",
       "      <td>neutral</td>\n",
       "    </tr>\n",
       "  </tbody>\n",
       "</table>\n",
       "</div>"
      ],
      "text/plain": [
       "                                    ireland comments  \\\n",
       "0  Do you want to give the EU power in domestic a...   \n",
       "1  No, we're very capable of housing applicants. ...   \n",
       "2  That's not correct. Ireland is frequently repr...   \n",
       "3  Fine Gael are proposing to spend a billion a y...   \n",
       "4  Lol yeah, funny that boring for a language can...   \n",
       "\n",
       "                                      Other comments  Sentiment_ireland  \\\n",
       "0  The construction industry has been concerned a...           0.166667   \n",
       "1                                            He dies           0.211667   \n",
       "2  Commercial Real estate intended to make a prof...           0.050000   \n",
       "3                                          Excellent          -0.127778   \n",
       "4                                 (Hi|Hey|Hello) OP,           0.016667   \n",
       "\n",
       "   Sentiment_other ireland label  \n",
       "0         0.294872       neutral  \n",
       "1         0.000000       neutral  \n",
       "2         0.128571       neutral  \n",
       "3         1.000000       neutral  \n",
       "4         0.000000       neutral  "
      ]
     },
     "execution_count": 25,
     "metadata": {},
     "output_type": "execute_result"
    }
   ],
   "source": [
    "def get_sentiment_label(score):         # Assigning labels 'positive', 'negative' and 'neutral' to Ireland sentiment scores\n",
    "    if score>0.5:\n",
    "        return 'positive'\n",
    "    elif score<-0.5:\n",
    "        return 'negative'\n",
    "    else:\n",
    "        return 'neutral'\n",
    "    \n",
    "new_df['ireland label']=new_df['Sentiment_ireland'].apply(get_sentiment_label)\n",
    "\n",
    "\n",
    "new_df.head(5)"
   ]
  },
  {
   "cell_type": "code",
   "execution_count": 26,
   "id": "9dd0c658",
   "metadata": {},
   "outputs": [
    {
     "data": {
      "text/html": [
       "<div>\n",
       "<style scoped>\n",
       "    .dataframe tbody tr th:only-of-type {\n",
       "        vertical-align: middle;\n",
       "    }\n",
       "\n",
       "    .dataframe tbody tr th {\n",
       "        vertical-align: top;\n",
       "    }\n",
       "\n",
       "    .dataframe thead th {\n",
       "        text-align: right;\n",
       "    }\n",
       "</style>\n",
       "<table border=\"1\" class=\"dataframe\">\n",
       "  <thead>\n",
       "    <tr style=\"text-align: right;\">\n",
       "      <th></th>\n",
       "      <th>ireland comments</th>\n",
       "      <th>Other comments</th>\n",
       "      <th>Sentiment_ireland</th>\n",
       "      <th>Sentiment_other</th>\n",
       "      <th>ireland label</th>\n",
       "      <th>other label</th>\n",
       "    </tr>\n",
       "  </thead>\n",
       "  <tbody>\n",
       "    <tr>\n",
       "      <th>0</th>\n",
       "      <td>Do you want to give the EU power in domestic a...</td>\n",
       "      <td>The construction industry has been concerned a...</td>\n",
       "      <td>0.166667</td>\n",
       "      <td>0.294872</td>\n",
       "      <td>neutral</td>\n",
       "      <td>neutral</td>\n",
       "    </tr>\n",
       "    <tr>\n",
       "      <th>1</th>\n",
       "      <td>No, we're very capable of housing applicants. ...</td>\n",
       "      <td>He dies</td>\n",
       "      <td>0.211667</td>\n",
       "      <td>0.000000</td>\n",
       "      <td>neutral</td>\n",
       "      <td>neutral</td>\n",
       "    </tr>\n",
       "    <tr>\n",
       "      <th>2</th>\n",
       "      <td>That's not correct. Ireland is frequently repr...</td>\n",
       "      <td>Commercial Real estate intended to make a prof...</td>\n",
       "      <td>0.050000</td>\n",
       "      <td>0.128571</td>\n",
       "      <td>neutral</td>\n",
       "      <td>neutral</td>\n",
       "    </tr>\n",
       "    <tr>\n",
       "      <th>3</th>\n",
       "      <td>Fine Gael are proposing to spend a billion a y...</td>\n",
       "      <td>Excellent</td>\n",
       "      <td>-0.127778</td>\n",
       "      <td>1.000000</td>\n",
       "      <td>neutral</td>\n",
       "      <td>positive</td>\n",
       "    </tr>\n",
       "    <tr>\n",
       "      <th>4</th>\n",
       "      <td>Lol yeah, funny that boring for a language can...</td>\n",
       "      <td>(Hi|Hey|Hello) OP,</td>\n",
       "      <td>0.016667</td>\n",
       "      <td>0.000000</td>\n",
       "      <td>neutral</td>\n",
       "      <td>neutral</td>\n",
       "    </tr>\n",
       "  </tbody>\n",
       "</table>\n",
       "</div>"
      ],
      "text/plain": [
       "                                    ireland comments  \\\n",
       "0  Do you want to give the EU power in domestic a...   \n",
       "1  No, we're very capable of housing applicants. ...   \n",
       "2  That's not correct. Ireland is frequently repr...   \n",
       "3  Fine Gael are proposing to spend a billion a y...   \n",
       "4  Lol yeah, funny that boring for a language can...   \n",
       "\n",
       "                                      Other comments  Sentiment_ireland  \\\n",
       "0  The construction industry has been concerned a...           0.166667   \n",
       "1                                            He dies           0.211667   \n",
       "2  Commercial Real estate intended to make a prof...           0.050000   \n",
       "3                                          Excellent          -0.127778   \n",
       "4                                 (Hi|Hey|Hello) OP,           0.016667   \n",
       "\n",
       "   Sentiment_other ireland label other label  \n",
       "0         0.294872       neutral     neutral  \n",
       "1         0.000000       neutral     neutral  \n",
       "2         0.128571       neutral     neutral  \n",
       "3         1.000000       neutral    positive  \n",
       "4         0.000000       neutral     neutral  "
      ]
     },
     "execution_count": 26,
     "metadata": {},
     "output_type": "execute_result"
    }
   ],
   "source": [
    "new_df['other label']=new_df['Sentiment_other'].apply(get_sentiment_label) # Assigning labels 'positive', 'negative' and 'neutral' to other sentiment scores\n",
    "\n",
    "\n",
    "new_df.head(5)"
   ]
  },
  {
   "cell_type": "code",
   "execution_count": 27,
   "id": "6fc747b9",
   "metadata": {},
   "outputs": [
    {
     "data": {
      "text/plain": [
       "<function matplotlib.pyplot.show(close=None, block=None)>"
      ]
     },
     "execution_count": 27,
     "metadata": {},
     "output_type": "execute_result"
    },
    {
     "data": {
      "image/png": "[encoded data removed]",
      "text/plain": [
       "<Figure size 640x480 with 1 Axes>"
      ]
     },
     "metadata": {},
     "output_type": "display_data"
    }
   ],
   "source": [
    "import matplotlib.pyplot as plt           # Plotting the sentiment distribution for Ireland and other, mostly neutral\n",
    "\n",
    "sentiment_counts=new_df[['ireland label', 'other label']].apply(pd.Series.value_counts) # Counting number of positive, negative and neutral labels\n",
    "\n",
    "sentiment_counts.plot(kind='bar', stacked=True) # Stacked to combine data from both columns in counts for comparative view\n",
    "\n",
    "plt.title('Sentiment Distribution')\n",
    "plt.xlabel('Columns')\n",
    "plt.ylabel('Count')\n",
    "\n",
    "plt.show"
   ]
  }
 ],
 "metadata": {
  "kernelspec": {
   "display_name": "Python 3 (ipykernel)",
   "language": "python",
   "name": "python3"
  },
  "language_info": {
   "codemirror_mode": {
    "name": "ipython",
    "version": 3
   },
   "file_extension": ".py",
   "mimetype": "text/x-python",
   "name": "python",
   "nbconvert_exporter": "python",
   "pygments_lexer": "ipython3",
   "version": "3.9.13"
  }
 },
 "nbformat": 4,
 "nbformat_minor": 5
}
